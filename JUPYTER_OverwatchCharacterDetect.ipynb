{
 "cells": [
  {
   "cell_type": "markdown",
   "id": "5a9db7fb",
   "metadata": {},
   "source": [
    "**jupyter notebook 환경설정 -> nbextensions 설치 (굳이 없어도 상관은 없으나 편리함)**\n",
    "> [nbextensions 설치](https://hmiiing.tistory.com/entry/%EC%A3%BC%ED%94%BC%ED%84%B0-%EB%85%B8%ED%8A%B8%EB%B6%81%EC%97%90-%EC%9D%B5%EC%8A%A4%ED%85%90%EC%85%98-%EC%84%A4%EC%B9%98%ED%95%98%EA%B8%B0nbextention)\n",
    "\n",
    "<br>\n",
    "\n",
    "※ Windows 기준으로 작성되었음. 이해를 위해 파일 탐색기를 함께 켜 놓고 보는 것을 추천.\n",
    "\n",
    "<br>\n",
    "\n",
    "**공식 깃허브 wiki또한 참고할 것**\n",
    "> [yolov5 공식 깃허브 wiki](https://github.com/ultralytics/yolov5/wiki)"
   ]
  },
  {
   "cell_type": "markdown",
   "id": "2e02aff0",
   "metadata": {
    "heading_collapsed": true
   },
   "source": [
    "##### 시작하기 전 확인사항\n",
    "- anaconda 설치\n",
    "- anaconda prompt 실행 시 관리자 모드로 실행\n",
    "- anaconda 가상환경 만들기\n",
    "- conda update conda, conda update --all\n",
    "- [pytorch 라이브러리 설치](https://pytorch.org/)"
   ]
  },
  {
   "cell_type": "markdown",
   "id": "3381e6e6",
   "metadata": {},
   "source": [
    "# YOLOv5를 사용해 커스텀 학습하기"
   ]
  },
  {
   "cell_type": "markdown",
   "id": "09e99890",
   "metadata": {},
   "source": [
    "## train 전 설정"
   ]
  },
  {
   "cell_type": "markdown",
   "id": "af4604e0",
   "metadata": {},
   "source": [
    "- 현재 Directory 확인, 작업할 폴더로 이동 (예시의 경우 C드라이브에 YOLOv5 폴더를 생성해 둠)"
   ]
  },
  {
   "cell_type": "code",
   "execution_count": 1,
   "id": "5f0caa78",
   "metadata": {
    "ExecuteTime": {
     "end_time": "2022-05-08T12:23:01.348997Z",
     "start_time": "2022-05-08T12:23:01.300410Z"
    }
   },
   "outputs": [
    {
     "name": "stdout",
     "output_type": "stream",
     "text": [
      " C 드라이브의 볼륨에는 이름이 없습니다.\n",
      " 볼륨 일련 번호: 8242-ECC2\n",
      "\n",
      " C:\\OverwatchAimHackDetect 디렉터리\n",
      "\n",
      "2022-05-09  오전 01:27    <DIR>          .\n",
      "2022-05-09  오전 01:25             4,238 .gitignore\n",
      "2022-05-09  오전 01:27    <DIR>          .ipynb_checkpoints\n",
      "2022-05-09  오전 01:25            18,201 OverwatchCharacterDetect.ipynb\n",
      "2022-05-09  오전 01:25             1,114 README.md\n",
      "2022-05-09  오전 01:25    <DIR>          yolov5\n",
      "               3개 파일              23,553 바이트\n",
      "               3개 디렉터리  401,937,309,696 바이트 남음\n"
     ]
    }
   ],
   "source": [
    "%pwd\n",
    "!dir"
   ]
  },
  {
   "cell_type": "markdown",
   "id": "27ee210e",
   "metadata": {},
   "source": [
    "- yolov5 깃 클론\n",
    "\n",
    "<br>\n",
    "\n",
    "※컴퓨터에 git이 깔려있지 않으면 실행 불가. 실행 전 반드시 설치할 것.\n",
    "- 환경변수 설정할 것(시스템 path)\n",
    "<br>\n",
    "\n",
    "> [git 설치 링크](https://gitforwindows.org/)"
   ]
  },
  {
   "cell_type": "code",
   "execution_count": 2,
   "id": "3de5e483",
   "metadata": {
    "ExecuteTime": {
     "end_time": "2022-05-08T12:23:15.756400Z",
     "start_time": "2022-05-08T12:23:11.050571Z"
    }
   },
   "outputs": [
    {
     "name": "stderr",
     "output_type": "stream",
     "text": [
      "Cloning into 'yolov5'...\n"
     ]
    }
   ],
   "source": [
    "!git clone https://github.com/ultralytics/yolov5"
   ]
  },
  {
   "cell_type": "markdown",
   "id": "e1c7ef44",
   "metadata": {},
   "source": [
    "- 깃 클론한 yolov5 폴더로 이동"
   ]
  },
  {
   "cell_type": "code",
   "execution_count": 3,
   "id": "8d644421",
   "metadata": {
    "ExecuteTime": {
     "end_time": "2022-05-08T12:24:21.724663Z",
     "start_time": "2022-05-08T12:24:21.709575Z"
    }
   },
   "outputs": [
    {
     "name": "stdout",
     "output_type": "stream",
     "text": [
      "C:\\OverwatchAimHackDetect\\yolov5\n"
     ]
    }
   ],
   "source": [
    "%cd yolov5"
   ]
  },
  {
   "cell_type": "markdown",
   "id": "6489bbf8",
   "metadata": {},
   "source": [
    "- 폴더 내에 있는 requirements.txt 기반 필수 라이브러리 설치\n",
    "- torch 라이브러리 임포트, 버전 및 GPU 확인"
   ]
  },
  {
   "cell_type": "code",
   "execution_count": null,
   "id": "643eb803",
   "metadata": {},
   "outputs": [],
   "source": [
    "%pip install -qr requirements.txt \n",
    "\n",
    "#이건 anaconda prompt에서 실행하는 것이 좋음. (ctrl + c 두번으로 jupyter notebook 빠져나가기 가능.)"
   ]
  },
  {
   "cell_type": "code",
   "execution_count": 4,
   "id": "73358cb3",
   "metadata": {
    "ExecuteTime": {
     "end_time": "2022-05-08T12:24:36.639538Z",
     "start_time": "2022-05-08T12:24:31.235680Z"
    }
   },
   "outputs": [
    {
     "name": "stdout",
     "output_type": "stream",
     "text": [
      "Setup complete. Using torch 1.11.0 _CudaDeviceProperties(name='GeForce RTX 3070', major=8, minor=6, total_memory=8192MB, multi_processor_count=46)\n"
     ]
    }
   ],
   "source": [
    "import torch\n",
    "print('Setup complete. Using torch %s %s' % (torch.__version__, torch.cuda.get_device_properties(0) if torch.cuda.is_available() else 'CPU'))"
   ]
  },
  {
   "cell_type": "markdown",
   "id": "b63d9d35",
   "metadata": {},
   "source": [
    "- 예시의 경우 라벨링 툴로 [roboflow](https://app.roboflow.com/) 사용\n",
    "- roboflow에서 프로젝트 생성 및 데이터 라벨링 작업 후 YOLO v5 pytorch 포맷으로 export\n",
    "- 생성된 명령어(다운로드 링크 포함)로 데이터 zip파일 다운로드"
   ]
  },
  {
   "cell_type": "code",
   "execution_count": null,
   "id": "08d41fc3",
   "metadata": {},
   "outputs": [],
   "source": [
    "#링크\n",
    "download_link = \"roboflow 사이트 참고\"\n",
    "#다운받을 zip파일 이름(필요 없으면 주석처리)\n",
    "zipfile_name = '직접작성'"
   ]
  },
  {
   "cell_type": "markdown",
   "id": "2074d230",
   "metadata": {},
   "source": [
    "- 클론받은 yolov5 폴더 내에 datasets 폴더 생성, 경로 이동\n",
    "- curl 명령어(roboflow에 있는 그대로 사용 가능)로 데이터 zip파일 다운로드"
   ]
  },
  {
   "cell_type": "code",
   "execution_count": null,
   "id": "deeccc49",
   "metadata": {},
   "outputs": [],
   "source": [
    "!mkdir datasets\n",
    "%cd datasets\n",
    "\n",
    "!curl -L {download_link} > {zipfile_name}"
   ]
  },
  {
   "cell_type": "markdown",
   "id": "58cb8fd3",
   "metadata": {},
   "source": [
    "- colab과 달리 windows에서는 unzip 명령, rm 명령 사용 불가\n",
    "- 따라서 아래 shutil 라이브러리를 사용, 압축 풀기\n",
    "- 압축을 푼 내용물을 현재 디렉터리로 복사(xcopy 명령, 옵션은 인터넷 참고)"
   ]
  },
  {
   "cell_type": "code",
   "execution_count": null,
   "id": "faa712a0",
   "metadata": {},
   "outputs": [],
   "source": [
    "import shutil\n",
    "\n",
    "filename = '직접작성'\n",
    "extract_dir = '직접작성'\n",
    "archive_format = \"zip\"\n",
    "\n",
    "shutil.unpack_archive(filename, extract_dir, archive_format)\n",
    "\n",
    "!xcopy {extract_dir} . /e /h /k /y"
   ]
  },
  {
   "cell_type": "markdown",
   "id": "d0bb01a6",
   "metadata": {},
   "source": [
    "- 현재 디렉터리로 복사했으므로 압축 푼 폴더 및 압축파일 삭제(del, rmdir 명령)"
   ]
  },
  {
   "cell_type": "code",
   "execution_count": null,
   "id": "05a27011",
   "metadata": {},
   "outputs": [],
   "source": [
    "!del {filename}\n",
    "!rmdir /s /q {extract_dir}"
   ]
  },
  {
   "cell_type": "markdown",
   "id": "32b70aee",
   "metadata": {
    "ExecuteTime": {
     "end_time": "2022-05-06T13:37:15.723346Z",
     "start_time": "2022-05-06T13:37:15.711225Z"
    }
   },
   "source": [
    "- glob 라이브러리 사용, train, valid 폴더에 있는 이미지 경로 주소 목록을 담은 txt 파일 생성"
   ]
  },
  {
   "cell_type": "code",
   "execution_count": null,
   "id": "02fd962c",
   "metadata": {},
   "outputs": [],
   "source": [
    "from glob import glob\n",
    "\n",
    "train_img_list = glob('./train/images/*.jpg') + glob('./train/images/*.jpeg')\n",
    "valid_img_list = glob('./valid/images/*.jpg') + glob('./valid/images/*.jpeg')\n",
    "\n",
    "with open('./train.txt', 'w') as f:\n",
    "    f.write('\\n'.join(train_img_list) + '\\n')\n",
    "            \n",
    "with open('./valid.txt', 'w') as f:\n",
    "    f.write('\\n'.join(valid_img_list) + '\\n')"
   ]
  },
  {
   "cell_type": "markdown",
   "id": "b36f3780",
   "metadata": {},
   "source": [
    "- data.yaml 파일 수정\n",
    "- 코드 적지 않았음. 직접 코드를 작성해 내용을 변경하거나, 아니면 직접 yaml 파일 수정할 것.\n",
    "    - train: 위에서 생성한 train.txt 경로\n",
    "    - val: 위에서 생성한 valid.txt 경로\n",
    "\n",
    "    - nc: 구분할 클래스 개수\n",
    "    - names: ['클래스명1', '클래스명2', ...]"
   ]
  },
  {
   "cell_type": "markdown",
   "id": "346816d7",
   "metadata": {},
   "source": [
    "## 모델 학습시키기"
   ]
  },
  {
   "cell_type": "markdown",
   "id": "eb327ed8",
   "metadata": {},
   "source": [
    "- !python /content/yolov5/train.py로 train.py 파일을 실행시킨다.\n",
    "\n",
    "<br>\n",
    "\n",
    "**이 때 설정할 수 있는 properties 목록**\n",
    "\n",
    "- img: define input image size\n",
    "- batch: determine batch size\n",
    "- epochs: define the number of training epochs. (Note: often, 3000+ are common here!)\n",
    "- data: set the path to our yaml file\n",
    "- cfg: specify our model configuration\n",
    "- weights: specify a custom path to weights. (Note: you can download weights from the Ultralytics Google Drive folder)\n",
    "- name: result names\n",
    "- nosave: only save the final checkpoint\n",
    "- cache: cache images for faster training\n",
    "- workers: max dataloader workers (per RANK in DDP mode)\n",
    "\n",
    "<br>\n",
    "\n",
    "* cfg에는 yolov5 n, s, m, l, x 중 어떤 모델을 선택해 학습할지 선택해 그에 맞는 yaml 파일 경로를 적어주면 된다.\n",
    "* yolov5 개발자가 미리 학습한 모델 가중치를 가지고 학습하는 것을 추천한다. [가중치 다운로드 링크](https://github.com/ultralytics/yolov5/releases)\n",
    "* yolov5 공식 깃허브의 학습 팁 참고해 학습시킬 것 [Tips for Best Training Results](https://github.com/ultralytics/yolov5/wiki/Tips-for-Best-Training-Results)\n",
    "\n",
    "<br>\n",
    "\n",
    "**아래는 예시이므로 에포크 3회, s 모델로 학습하였음**"
   ]
  },
  {
   "cell_type": "code",
   "execution_count": null,
   "id": "d5b07b03",
   "metadata": {},
   "outputs": [],
   "source": [
    "# 파일 위치에 따라 코드 내용이 달라지므로(상대경로) 항상 현재 폴더 확인할 것\n",
    "%cd C:\\OverwatchAimHackDetect"
   ]
  },
  {
   "cell_type": "code",
   "execution_count": null,
   "id": "5124f5a3",
   "metadata": {},
   "outputs": [],
   "source": [
    "# jupyter notebook을 나가서 아래 명령을 실행하면 epoch 진행도 확인 가능. jupyter에서는 실행이 끝나야만 확인 가능하다.\n",
    "!python ./yolov5/train.py --img 416 --batch 16 --epochs 3 --data ./yolov5/datasets/data.yaml --cfg ./yolov5/models/yolov5s.yaml --weights ./pretrainedModel/yolov5s6.pt --name test --cache --workers 0"
   ]
  },
  {
   "cell_type": "markdown",
   "id": "63bd21dd",
   "metadata": {},
   "source": [
    "- 학습시킬 때 지정한 이름인 test 폴더에 저장되었음. >> yolov5\\runs\\train\\test"
   ]
  },
  {
   "cell_type": "markdown",
   "id": "26d436b7",
   "metadata": {
    "ExecuteTime": {
     "end_time": "2022-05-06T14:07:12.699350Z",
     "start_time": "2022-05-06T14:07:12.694349Z"
    }
   },
   "source": [
    "## 객체 검출하기"
   ]
  },
  {
   "cell_type": "markdown",
   "id": "6fcaed60",
   "metadata": {},
   "source": [
    "- detect.py로 학습된 모델 가중치인 best.pt를 가지고 동영상 또는 이미지에서 객체 인식 가능\n",
    "    - conf : confidence. 0.1의 경우 confidence 값 0.1이상이면 화면에 바운딩 박스 표시\n",
    "    - source : 객체 검출할 영상 경로"
   ]
  },
  {
   "cell_type": "code",
   "execution_count": null,
   "id": "ac5a9199",
   "metadata": {},
   "outputs": [],
   "source": [
    "!python ./yolov5/detect.py --weights ./yolov5/runs/train/test/weights/best.pt --conf 0.1 --source ./yolov5/datasets/test/test.mp4"
   ]
  },
  {
   "cell_type": "markdown",
   "id": "773d2ad8",
   "metadata": {},
   "source": [
    "yolov5/runs/detect/ 의 exp 폴더에서 결과 이미지 확인 가능\n",
    "- 위 결과를 확인하면 아무것도 검출해내지 못한 것을 확인할 수 있으나, 이것은 예시이기 때문임."
   ]
  },
  {
   "cell_type": "markdown",
   "id": "a2e94792",
   "metadata": {},
   "source": [
    "# 참고"
   ]
  },
  {
   "cell_type": "markdown",
   "id": "5f9dad89",
   "metadata": {},
   "source": [
    "## datasets 폴더에 데이터를 더 추가했을 때"
   ]
  },
  {
   "cell_type": "markdown",
   "id": "03261618",
   "metadata": {},
   "source": [
    "roboflow에서 라벨링을 한다면 라벨 txt 파일이 생성되는데, 다른 프로젝트에서 작업한 내용을 export해서 그대로 추가해 작업하면 문제가 생김.\n",
    "- dataset A, dataset B가 있다고 할 때, A는 1과 2, B는 3과 4라는 클래스를 구분하고 있다고 하자.\n",
    "- 이때 컴퓨터에서 미리 다운받아 둔 datasets A에 B 내용을 추가하려고 한다.\n",
    "- A는 1과 2라는 클래스를 0, 1로 구분함.\n",
    "- B도 3과 4라는 클래스를 0, 1로 구분함.\n",
    "- 따라서 라벨 txt 파일 내용을 변경해 줄 필요가 있음.\n",
    "- txt 파일을 열면 띄워쓰기로 구분된 숫자들 중 가장 첫번째 숫자가 클래스를 나타냄. 이것을 변경해 주자."
   ]
  },
  {
   "cell_type": "code",
   "execution_count": null,
   "id": "e57a221d",
   "metadata": {},
   "outputs": [],
   "source": [
    "# train 폴더 내에 몇개의 라벨파일이 있나 세는 코드\n",
    "from glob import glob\n",
    "import os\n",
    "train_label_list = glob('./train/labels/*.txt')\n",
    "count = 0\n",
    "for path in train_label_list:\n",
    "    print(path)\n",
    "    count = count + 1\n",
    "\n",
    "print(count)"
   ]
  },
  {
   "cell_type": "code",
   "execution_count": null,
   "id": "5cf5e639",
   "metadata": {},
   "outputs": [],
   "source": [
    "# train 폴더 내 label 파일 내용을 바꿔주는 코드 (아래 예시의 경우 0을 1로 바꿔준다.)\n",
    "from glob import glob \n",
    "import os \n",
    "train_label_list = glob('./train/labels/*.txt')\n",
    "for path in train_label_list:\n",
    "    print(path)\n",
    "    f = open(path, \"rt\")\n",
    "    newText = f.read()\n",
    "    if newText.startswith(\"0\"):\n",
    "        f2 = open(path, 'wt')\n",
    "        f2.write(newText.replace(newText[0], '1', 1))\n",
    "        f2.close()\n",
    "    f.close()"
   ]
  },
  {
   "cell_type": "code",
   "execution_count": null,
   "id": "2fd0d0cf",
   "metadata": {},
   "outputs": [],
   "source": [
    "# 위 코드와 마찬가지. valid 폴더 내 label 파일 내용을 바꿔주는 코드 (아래 예시의 경우 0을 1로 바꿔준다.)\n",
    "from glob import glob \n",
    "import os \n",
    "train_label_list = glob('./valid/labels/*.txt')\n",
    "for path in train_label_list:\n",
    "    print(path)\n",
    "    f = open(path, \"rt\")\n",
    "    newText = f.read()\n",
    "    if newText.startswith(\"0\"):\n",
    "        f2 = open(path, 'wt')\n",
    "        f2.write(newText.replace(newText[0], '1', 1))\n",
    "        f2.close()\n",
    "    f.close()"
   ]
  },
  {
   "cell_type": "markdown",
   "id": "bc94f683",
   "metadata": {},
   "source": [
    "## 학습 실패 시 대처방법"
   ]
  },
  {
   "cell_type": "markdown",
   "id": "359869a1",
   "metadata": {},
   "source": [
    "- **dataloader.py** 파일 _try_get_data에서 아래와 같은 문제가 발생한다고 출력\n",
    "    - data = self._data_queue.get(timeout=timeout)\n",
    "\n",
    "> --workers 인자가 포함되어있는지 확인, --workers 0으로 설정 [링크 참고](https://github.com/ultralytics/yolov5/issues/1675)\n",
    "\n",
    "- 위 에러를 해결했음에도 아래와 같은 이유로 학습이 되지 않을 때\n",
    "    - **OMP: Error #15: Initializing libiomp5.dylib, but found libiomp5.dylib already initialized.** 에러\n",
    "\n",
    "> 라이브러리 중복 문제, 아래 코드 추가\n",
    ">>```\n",
    "import os\n",
    "os.environ['KMP_DUPLICATE_LIB_OK']='True'\n",
    "```"
   ]
  }
 ],
 "metadata": {
  "kernelspec": {
   "display_name": "Python 3 (ipykernel)",
   "language": "python",
   "name": "python3"
  },
  "language_info": {
   "codemirror_mode": {
    "name": "ipython",
    "version": 3
   },
   "file_extension": ".py",
   "mimetype": "text/x-python",
   "name": "python",
   "nbconvert_exporter": "python",
   "pygments_lexer": "ipython3",
   "version": "3.9.12"
  },
  "toc": {
   "base_numbering": 1,
   "nav_menu": {},
   "number_sections": true,
   "sideBar": true,
   "skip_h1_title": false,
   "title_cell": "Table of Contents",
   "title_sidebar": "Contents",
   "toc_cell": false,
   "toc_position": {},
   "toc_section_display": true,
   "toc_window_display": false
  },
  "varInspector": {
   "cols": {
    "lenName": 16,
    "lenType": 16,
    "lenVar": 40
   },
   "kernels_config": {
    "python": {
     "delete_cmd_postfix": "",
     "delete_cmd_prefix": "del ",
     "library": "var_list.py",
     "varRefreshCmd": "print(var_dic_list())"
    },
    "r": {
     "delete_cmd_postfix": ") ",
     "delete_cmd_prefix": "rm(",
     "library": "var_list.r",
     "varRefreshCmd": "cat(var_dic_list()) "
    }
   },
   "types_to_exclude": [
    "module",
    "function",
    "builtin_function_or_method",
    "instance",
    "_Feature"
   ],
   "window_display": false
  }
 },
 "nbformat": 4,
 "nbformat_minor": 5
}
